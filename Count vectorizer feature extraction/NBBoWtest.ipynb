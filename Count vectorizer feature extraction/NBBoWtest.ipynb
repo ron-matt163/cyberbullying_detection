{
 "cells": [
  {
   "cell_type": "markdown",
   "metadata": {},
   "source": [
    "# Trying Out sample strings"
   ]
  },
  {
   "cell_type": "code",
   "execution_count": 10,
   "metadata": {},
   "outputs": [],
   "source": [
    "import pickle\n",
    "import nltk\n",
    "from sklearn.feature_extraction.text import CountVectorizer\n",
    "import re\n",
    "from nltk.stem import WordNetLemmatizer\n",
    "import ssl\n",
    "from nltk.corpus import stopwords\n",
    "import string\n",
    "\n",
    "def message_cleaning(message):\n",
    "    message = ' '.join(re.sub(\"(@[A-Za-z0-9]+)|([^0-9A-Za-z \\t])|(\\w+:\\/\\/\\S+)\",\" \",message).split())\n",
    "    Test_punc_removed = [char for char in message if char not in string.punctuation]\n",
    "    Test_punc_removed_join = ''.join(Test_punc_removed)\n",
    "    Test_punc_removed_join_clean = [word.lower() for word in Test_punc_removed_join.split() if word.lower() not in stopwords.words('english')]\n",
    "    wordnet_lemmatizer = WordNetLemmatizer()\n",
    "    lemma_list = [wordnet_lemmatizer.lemmatize(word) for word in Test_punc_removed_join_clean]\n",
    "    \n",
    "    return lemma_list"
   ]
  },
  {
   "cell_type": "code",
   "execution_count": 11,
   "metadata": {},
   "outputs": [
    {
     "name": "stdout",
     "output_type": "stream",
     "text": [
      "  (0, 515)\t1\n",
      "  (0, 4406)\t1\n",
      "  (0, 8293)\t1\n",
      "  (0, 10391)\t1\n",
      "  (0, 10573)\t1\n"
     ]
    }
   ],
   "source": [
    "with open('NBBowTrained.sav', 'rb') as f:\n",
    "    loaded_NB_classifier,loaded_func_countvectorizer = pickle.load(f)\n",
    "\n",
    "\n",
    "input_text = [\"we tried to go there. but apparently, but we couldn't reach on time\"]\n",
    "\n",
    "input_vector = loaded_func_countvectorizer.transform(input_text)\n",
    "\n",
    "print(input_vector)"
   ]
  },
  {
   "cell_type": "code",
   "execution_count": 12,
   "metadata": {},
   "outputs": [
    {
     "name": "stdout",
     "output_type": "stream",
     "text": [
      "[0]\n"
     ]
    }
   ],
   "source": [
    "result = loaded_NB_classifier.predict(input_vector)\n",
    "print(result)"
   ]
  },
  {
   "cell_type": "code",
   "execution_count": null,
   "metadata": {},
   "outputs": [],
   "source": []
  }
 ],
 "metadata": {
  "kernelspec": {
   "display_name": "Python 3",
   "language": "python",
   "name": "python3"
  },
  "language_info": {
   "codemirror_mode": {
    "name": "ipython",
    "version": 3
   },
   "file_extension": ".py",
   "mimetype": "text/x-python",
   "name": "python",
   "nbconvert_exporter": "python",
   "pygments_lexer": "ipython3",
   "version": "3.6.9"
  }
 },
 "nbformat": 4,
 "nbformat_minor": 4
}
